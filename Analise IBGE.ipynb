{
 "cells": [
  {
   "cell_type": "markdown",
   "metadata": {},
   "source": [
    "## Analisando Dispersão dos dados do IBGE\n",
    "\n"
   ]
  },
  {
   "cell_type": "markdown",
   "metadata": {},
   "source": [
    "### Medidas dispersão para a variável salário\n",
    "\n",
    "Evidentemente o desvio pacrão e a variância fazem sentido para as variáveis quatitativas ou qualitativas ordinais numéricas com várias categorias. Para nosso exemplo temos idade, anos de estudo e salário."
   ]
  },
  {
   "cell_type": "markdown",
   "metadata": {},
   "source": [
    "### Acesso ao DataSet com a definição das listas com as idades e os salários "
   ]
  },
  {
   "cell_type": "code",
   "execution_count": 1,
   "metadata": {},
   "outputs": [
    {
     "name": "stdout",
     "output_type": "stream",
     "text": [
      "Wall time: 0 ns\n"
     ]
    }
   ],
   "source": [
    "# Separação da leitura do arquivo com dois TRYs diferentes para diferenciação em caso de erro\n",
    "\n",
    "%time\n",
    "\n",
    "import csv \n",
    "lista_com_salarios = []\n",
    "lista_com_idades = list()\n",
    "\n",
    "with open(r'data/data.csv', 'r') as data_csv:\n",
    "    data = csv.reader(data_csv)\n",
    "\n",
    "    for i, line in enumerate(data):\n",
    "        if i>0:\n",
    "            try:\n",
    "                lista_com_idades.append(float(line[2]))\n",
    "            except:\n",
    "                pass\n",
    "            \n",
    "            try:\n",
    "                lista_com_salarios.append(float(line[6]))\n",
    "            except:\n",
    "                pass"
   ]
  },
  {
   "cell_type": "code",
   "execution_count": 2,
   "metadata": {},
   "outputs": [
    {
     "data": {
      "text/plain": [
       "66470"
      ]
     },
     "execution_count": 2,
     "metadata": {},
     "output_type": "execute_result"
    }
   ],
   "source": [
    "len(lista_com_idades)"
   ]
  },
  {
   "cell_type": "code",
   "execution_count": 3,
   "metadata": {},
   "outputs": [
    {
     "data": {
      "text/plain": [
       "47878"
      ]
     },
     "execution_count": 3,
     "metadata": {},
     "output_type": "execute_result"
    }
   ],
   "source": [
    "len(lista_com_salarios)"
   ]
  },
  {
   "cell_type": "code",
   "execution_count": 4,
   "metadata": {},
   "outputs": [
    {
     "data": {
      "text/plain": [
       "[53.0, 49.0, 22.0, 55.0, 56.0]"
      ]
     },
     "execution_count": 4,
     "metadata": {},
     "output_type": "execute_result"
    }
   ],
   "source": [
    "lista_com_idades[:5]"
   ]
  },
  {
   "cell_type": "code",
   "execution_count": 5,
   "metadata": {},
   "outputs": [
    {
     "data": {
      "text/plain": [
       "[63600.0, 4352.400390625, 96600.0, 157800.0, 88550.0]"
      ]
     },
     "execution_count": 5,
     "metadata": {},
     "output_type": "execute_result"
    }
   ],
   "source": [
    "lista_com_salarios[:5]"
   ]
  },
  {
   "cell_type": "markdown",
   "metadata": {},
   "source": [
    "## Construção da função calcula_variancia_e_desvio (lista_valores)\n",
    "\n",
    "Fazer a formula com base no código acima e na função abaixo:\n",
    "\n",
    "$$ \\sigma{_x}^{2} = \\frac{1}{N}\\sum\\limits_{i = 1}^N {\\left( {x_i - \\bar x} \\right)^2 }  $$\n"
   ]
  },
  {
   "cell_type": "code",
   "execution_count": 6,
   "metadata": {},
   "outputs": [],
   "source": [
    "def calcula_variancia_e_desvio(lista_valores):\n",
    "    '''\n",
    "    Escrever o código para calcular a variância\n",
    "    '''\n",
    "    import math\n",
    "    \n",
    "    media = 0\n",
    "    soma = 0\n",
    "    \n",
    "    \n",
    "    for i in lista_valores:\n",
    "        \n",
    "        soma += i\n",
    "        \n",
    "    media = soma/len(lista_valores)\n",
    "    \n",
    "    print('media=', media)\n",
    "    SQT = 0\n",
    "    \n",
    "    for n in lista_valores:\n",
    "        SQT += (n-media)**2\n",
    "    \n",
    "    print('SQT=', SQT)\n",
    "    \n",
    "    variancia = SQT/len(lista_valores)\n",
    "    desvio_padrao = math.sqrt(variancia)\n",
    "    \n",
    "    return (variancia, desvio_padrao)"
   ]
  },
  {
   "cell_type": "markdown",
   "metadata": {},
   "source": [
    "### Aplicação da função para a lista com salarios"
   ]
  },
  {
   "cell_type": "code",
   "execution_count": 7,
   "metadata": {},
   "outputs": [
    {
     "name": "stdout",
     "output_type": "stream",
     "text": [
      "media= 19706.790323432902\n",
      "SQT= 376066147518181.8\n"
     ]
    },
    {
     "data": {
      "text/plain": [
       "(7854675373.202344, 88626.60646330957)"
      ]
     },
     "execution_count": 7,
     "metadata": {},
     "output_type": "execute_result"
    }
   ],
   "source": [
    "calcula_variancia_e_desvio(lista_com_salarios)"
   ]
  },
  {
   "cell_type": "markdown",
   "metadata": {},
   "source": [
    "### Aplicação da função para a lista com idades utilizando uma variável para os resultados"
   ]
  },
  {
   "cell_type": "code",
   "execution_count": 8,
   "metadata": {},
   "outputs": [
    {
     "name": "stdout",
     "output_type": "stream",
     "text": [
      "media= 37.6348126974575\n",
      "SQT= 8608267.4434146\n"
     ]
    }
   ],
   "source": [
    "variavel_output = calcula_variancia_e_desvio(lista_com_idades)"
   ]
  },
  {
   "cell_type": "code",
   "execution_count": 9,
   "metadata": {},
   "outputs": [
    {
     "data": {
      "text/plain": [
       "(129.5060545120295, 11.380072693617976)"
      ]
     },
     "execution_count": 9,
     "metadata": {},
     "output_type": "execute_result"
    }
   ],
   "source": [
    "variavel_output"
   ]
  },
  {
   "cell_type": "code",
   "execution_count": 10,
   "metadata": {},
   "outputs": [
    {
     "data": {
      "text/plain": [
       "129.5060545120295"
      ]
     },
     "execution_count": 10,
     "metadata": {},
     "output_type": "execute_result"
    }
   ],
   "source": [
    "variavel_output[0]"
   ]
  },
  {
   "cell_type": "code",
   "execution_count": 11,
   "metadata": {},
   "outputs": [
    {
     "data": {
      "text/plain": [
       "11.380072693617976"
      ]
     },
     "execution_count": 11,
     "metadata": {},
     "output_type": "execute_result"
    }
   ],
   "source": [
    "variavel_output[1]"
   ]
  },
  {
   "cell_type": "markdown",
   "metadata": {},
   "source": [
    "### Função alternativa com código otimizado em Python"
   ]
  },
  {
   "cell_type": "code",
   "execution_count": 12,
   "metadata": {},
   "outputs": [],
   "source": [
    "def alternativa(lista):\n",
    "    \n",
    "    m = sum(lista) / len(lista)\n",
    "    variancia = sum((xi - m) ** 2 for xi in lista) / len(lista)\n",
    "    desvio_padrao = variancia**0.5\n",
    "    \n",
    "    return variancia, desvio_padrao"
   ]
  },
  {
   "cell_type": "code",
   "execution_count": 13,
   "metadata": {},
   "outputs": [
    {
     "data": {
      "text/plain": [
       "(7854675373.202344, 88626.60646330957)"
      ]
     },
     "execution_count": 13,
     "metadata": {},
     "output_type": "execute_result"
    }
   ],
   "source": [
    "alternativa(lista_com_salarios)"
   ]
  },
  {
   "cell_type": "code",
   "execution_count": 14,
   "metadata": {},
   "outputs": [
    {
     "data": {
      "text/plain": [
       "(129.5060545120295, 11.380072693617976)"
      ]
     },
     "execution_count": 14,
     "metadata": {},
     "output_type": "execute_result"
    }
   ],
   "source": [
    "alternativa(lista_com_idades)"
   ]
  },
  {
   "cell_type": "markdown",
   "metadata": {},
   "source": [
    "# Plotando o histograma com matplotlib"
   ]
  },
  {
   "cell_type": "code",
   "execution_count": 15,
   "metadata": {},
   "outputs": [],
   "source": [
    "import matplotlib.pyplot as plt"
   ]
  },
  {
   "cell_type": "markdown",
   "metadata": {},
   "source": [
    "### Histograma da lista com salários"
   ]
  },
  {
   "cell_type": "code",
   "execution_count": 16,
   "metadata": {},
   "outputs": [
    {
     "data": {
      "image/png": "[encoded data removed]",
      "text/plain": [
       "<Figure size 432x288 with 1 Axes>"
      ]
     },
     "metadata": {
      "needs_background": "light"
     },
     "output_type": "display_data"
    }
   ],
   "source": [
    "plt.hist(lista_com_salarios)\n",
    "plt.show()"
   ]
  },
  {
   "cell_type": "markdown",
   "metadata": {},
   "source": [
    "#### Escolhendo a quantidade de bins\n",
    "\n",
    "Bins (ou cesta) é o parâmetro do módulo que plota histogramas que faz o agrupamento dos valores da lista em intervalos - para melhor visualização das frequências, é necessário otimizar o seu valor (ou parametrizar)."
   ]
  },
  {
   "cell_type": "code",
   "execution_count": 17,
   "metadata": {},
   "outputs": [
    {
     "data": {
      "image/png": "[encoded data removed]",
      "text/plain": [
       "<Figure size 432x288 with 1 Axes>"
      ]
     },
     "metadata": {
      "needs_background": "light"
     },
     "output_type": "display_data"
    }
   ],
   "source": [
    "plt.hist(lista_com_salarios, bins=100)\n",
    "plt.show()"
   ]
  },
  {
   "cell_type": "markdown",
   "metadata": {},
   "source": [
    "#### Escolhendo o range de valores\n",
    "\n",
    "O range é o parâmetro que define o intervalo do gistograma e também precisa de parametrização para melhor visualização da variação."
   ]
  },
  {
   "cell_type": "code",
   "execution_count": 18,
   "metadata": {},
   "outputs": [
    {
     "data": {
      "image/png": "[encoded data removed]",
      "text/plain": [
       "<Figure size 432x288 with 1 Axes>"
      ]
     },
     "metadata": {
      "needs_background": "light"
     },
     "output_type": "display_data"
    }
   ],
   "source": [
    "plt.hist(lista_com_salarios, bins=50, range=(-100, 75000))\n",
    "plt.show()"
   ]
  },
  {
   "cell_type": "markdown",
   "metadata": {},
   "source": [
    "## Histograma da lista com idades"
   ]
  },
  {
   "cell_type": "code",
   "execution_count": 19,
   "metadata": {},
   "outputs": [
    {
     "data": {
      "image/png": "[encoded data removed]",
      "text/plain": [
       "<Figure size 432x288 with 1 Axes>"
      ]
     },
     "metadata": {
      "needs_background": "light"
     },
     "output_type": "display_data"
    }
   ],
   "source": [
    "plt.hist(lista_com_idades, bins=50, range=(15,65))\n",
    "plt.show()"
   ]
  },
  {
   "cell_type": "markdown",
   "metadata": {},
   "source": [
    "## Fazendo a mesma análise para a variável anos de estudo"
   ]
  },
  {
   "cell_type": "code",
   "execution_count": 20,
   "metadata": {},
   "outputs": [
    {
     "name": "stdout",
     "output_type": "stream",
     "text": [
      "Wall time: 0 ns\n"
     ]
    }
   ],
   "source": [
    "%time\n",
    "\n",
    "import csv \n",
    "lista_anos_estudo = []\n",
    "\n",
    "with open(r'data/data.csv', 'r') as data_csv:\n",
    "    data = csv.reader(data_csv)\n",
    "\n",
    "    for i, line in enumerate(data):\n",
    "        if i>0:\n",
    "            try:\n",
    "                lista_anos_estudo.append(float(line[4]))\n",
    "            except:\n",
    "                pass"
   ]
  },
  {
   "cell_type": "code",
   "execution_count": 21,
   "metadata": {},
   "outputs": [
    {
     "name": "stdout",
     "output_type": "stream",
     "text": [
      "media= 8.686065176570356\n",
      "SQT= 751966.8171758754\n"
     ]
    },
    {
     "data": {
      "text/plain": [
       "(11.38722541001689, 3.3744963194552295)"
      ]
     },
     "execution_count": 21,
     "metadata": {},
     "output_type": "execute_result"
    }
   ],
   "source": [
    "calcula_variancia_e_desvio(lista_anos_estudo)"
   ]
  },
  {
   "cell_type": "code",
   "execution_count": 22,
   "metadata": {},
   "outputs": [
    {
     "data": {
      "text/plain": [
       "(11.38722541001689, 3.3744963194552295)"
      ]
     },
     "execution_count": 22,
     "metadata": {},
     "output_type": "execute_result"
    }
   ],
   "source": [
    "alternativa(lista_anos_estudo)"
   ]
  },
  {
   "cell_type": "code",
   "execution_count": 23,
   "metadata": {},
   "outputs": [
    {
     "data": {
      "image/png": "[encoded data removed]",
      "text/plain": [
       "<Figure size 432x288 with 1 Axes>"
      ]
     },
     "metadata": {
      "needs_background": "light"
     },
     "output_type": "display_data"
    }
   ],
   "source": [
    "plt.hist(lista_anos_estudo,bins = 10, range=(4,16))\n",
    "plt.show()"
   ]
  },
  {
   "cell_type": "markdown",
   "metadata": {},
   "source": [
    "# Exemplo de três curvas com a mesma média e diferentes dispersões"
   ]
  },
  {
   "cell_type": "code",
   "execution_count": 24,
   "metadata": {},
   "outputs": [],
   "source": [
    "lista_valores = []\n",
    "\n",
    "for valor in range(0, 1000, 1):\n",
    "    lista_valores.append((valor/125)-4)"
   ]
  },
  {
   "cell_type": "code",
   "execution_count": 25,
   "metadata": {},
   "outputs": [
    {
     "data": {
      "image/png": "[encoded data removed]",
      "text/plain": [
       "<Figure size 432x288 with 1 Axes>"
      ]
     },
     "metadata": {
      "needs_background": "light"
     },
     "output_type": "display_data"
    }
   ],
   "source": [
    "from scipy.stats import norm\n",
    "import matplotlib.pyplot as plt\n",
    "\n",
    "mean, std, std1, std2 = 0, 0.5, 1, 2\n",
    "\n",
    "plt.plot(lista_valores, norm.pdf(lista_valores,mean,std), label='std=0.5')\n",
    "plt.plot(lista_valores, norm.pdf(lista_valores,mean,std1), label='std=1')\n",
    "plt.plot(lista_valores, norm.pdf(lista_valores,mean,std2), label='std=2')\n",
    "\n",
    "plt.legend(loc='upper left')\n",
    "\n",
    "plt.show()"
   ]
  },
  {
   "cell_type": "markdown",
   "metadata": {},
   "source": [
    "## Medidas de Associação"
   ]
  },
  {
   "cell_type": "markdown",
   "metadata": {},
   "source": [
    "# Exemplo com números gerados\n",
    "\n",
    "Vamos criar duas variáveis aleatórias para utilização nesta parte de cálculo das medidas de associação através no numpy.random, e a partir do gráfico de dispersão (scatter plot) iremos trazer os códigos das funções de cálculo seguidas nos comandos da bilbioteca Scipy.Stats. "
   ]
  },
  {
   "cell_type": "code",
   "execution_count": 26,
   "metadata": {},
   "outputs": [
    {
     "data": {
      "text/plain": [
       "<matplotlib.collections.PathCollection at 0x1fe8cd85eb8>"
      ]
     },
     "execution_count": 26,
     "metadata": {},
     "output_type": "execute_result"
    },
    {
     "data": {
      "image/png": "[encoded data removed]",
      "text/plain": [
       "<Figure size 432x288 with 1 Axes>"
      ]
     },
     "metadata": {
      "needs_background": "light"
     },
     "output_type": "display_data"
    }
   ],
   "source": [
    "x1 = [1.3, 2.1, 3.4, 3.7, 5.4, 6.3, 7.2, 8.1, 9.9]\n",
    "x2 = [8.7, 8.5, 7.6, 6.1, 5.1, 5.7, 3.3, 3.8, 1.7]\n",
    "\n",
    "plt.scatter(x=x1,\n",
    "            y=x2)"
   ]
  },
  {
   "cell_type": "code",
   "execution_count": 27,
   "metadata": {},
   "outputs": [
    {
     "name": "stdout",
     "output_type": "stream",
     "text": [
      "[(1.3, 8.7), (2.1, 8.5), (3.4, 7.6), (3.7, 6.1), (5.4, 5.1)]\n"
     ]
    }
   ],
   "source": [
    "xy = list(zip(list(x1),list(x2)))\n",
    "print(xy[:5])"
   ]
  },
  {
   "cell_type": "code",
   "execution_count": 28,
   "metadata": {},
   "outputs": [
    {
     "name": "stdout",
     "output_type": "stream",
     "text": [
      "-0.9693785258717729\n"
     ]
    }
   ],
   "source": [
    "import scipy\n",
    "\n",
    "metodo_nutella = scipy.stats.pearsonr(x1, x2)\n",
    "print(metodo_nutella[0])"
   ]
  },
  {
   "cell_type": "markdown",
   "metadata": {},
   "source": [
    "$$ \\rho = \\frac{{}\\sum_{i=1}^{n} (x_i - \\overline{x})(y_i - \\overline{y})}\n",
    "{\\sqrt{\\sum_{i=1}^{n} (x_i - \\overline{x})^2(y_i - \\overline{y})^2}}$$"
   ]
  },
  {
   "cell_type": "markdown",
   "metadata": {},
   "source": [
    "ou outras formas de representação:\n",
    "\n",
    "<img src ='https://wikimedia.org/api/rest_v1/media/math/render/svg/9a883e9f9f3f8abd5a139141e1c60212d53a8f09' />"
   ]
  },
  {
   "cell_type": "code",
   "execution_count": 29,
   "metadata": {},
   "outputs": [],
   "source": [
    "def corr_metodo_raiz(data):\n",
    "    n = len(data)\n",
    "    sumx = sum(i[0] for i in data)\n",
    "    sumy = sum(i[1] for i in data)\n",
    "    \n",
    "    sumxSq=sum([i[0]**2.0 for i in data])\n",
    "    sumySq=sum([i[1]**2.0 for i in data])\n",
    "    \n",
    "    pSum=sum([i[0]*i[1] for i in data])\n",
    "    \n",
    "    numerador=pSum-(sumx*sumy/n)\n",
    "    denominador=((sumxSq-pow(sumx,2)/n)*(sumySq-pow(sumy,2)/n))**.5\n",
    "    \n",
    "    if denominador==0:\n",
    "        r=0\n",
    "    else:\n",
    "        r=numerador/denominador\n",
    "        \n",
    "    return r"
   ]
  },
  {
   "cell_type": "code",
   "execution_count": 30,
   "metadata": {},
   "outputs": [
    {
     "data": {
      "text/plain": [
       "-0.9693785258717726"
      ]
     },
     "execution_count": 30,
     "metadata": {},
     "output_type": "execute_result"
    }
   ],
   "source": [
    "corr_metodo_raiz(xy)"
   ]
  },
  {
   "cell_type": "markdown",
   "metadata": {},
   "source": [
    "## Analisando correlação nos dados do IBGE\n"
   ]
  },
  {
   "cell_type": "code",
   "execution_count": 31,
   "metadata": {},
   "outputs": [
    {
     "name": "stdout",
     "output_type": "stream",
     "text": [
      "66470 47878\n",
      "\n",
      "\n",
      "[53.0, 49.0, 22.0, 55.0, 56.0]\n",
      "[63600.0, 4352.400390625, 96600.0, 157800.0, 88550.0]\n"
     ]
    }
   ],
   "source": [
    "import numpy\n",
    "\n",
    "print(len(lista_com_idades), len(lista_com_salarios))\n",
    "print('\\n')\n",
    "print(lista_com_idades[:5])\n",
    "print(lista_com_salarios[:5])"
   ]
  },
  {
   "cell_type": "markdown",
   "metadata": {},
   "source": [
    "## Lendo e definindo uma lista de valores com idades e anos de estudo"
   ]
  },
  {
   "cell_type": "code",
   "execution_count": 32,
   "metadata": {},
   "outputs": [
    {
     "data": {
      "text/plain": [
       "66036"
      ]
     },
     "execution_count": 32,
     "metadata": {},
     "output_type": "execute_result"
    }
   ],
   "source": [
    "idade_estudo = []\n",
    "\n",
    "with open(r'data/data.csv', 'r') as data_csv:\n",
    "    data = csv.reader(data_csv)\n",
    "    for i, line in enumerate(data):\n",
    "        observação = [] # cria uma lista em branco a cada iteração\n",
    "        if i>0:\n",
    "            try: # para evitar os campos nulos\n",
    "                observação.append(float(line[2]))\n",
    "                observação.append(float(line[4]))\n",
    "                idade_estudo.append(observação)\n",
    "            except:\n",
    "                pass\n",
    "            \n",
    "len(idade_estudo)"
   ]
  },
  {
   "cell_type": "code",
   "execution_count": 33,
   "metadata": {},
   "outputs": [
    {
     "data": {
      "text/plain": [
       "[[53.0, 5.0],\n",
       " [49.0, 8.0],\n",
       " [22.0, 11.0],\n",
       " [55.0, 15.0],\n",
       " [56.0, 15.0],\n",
       " [30.0, 15.0],\n",
       " [52.0, 5.0],\n",
       " [29.0, 5.0],\n",
       " [29.0, 11.0],\n",
       " [46.0, 15.0]]"
      ]
     },
     "execution_count": 33,
     "metadata": {},
     "output_type": "execute_result"
    }
   ],
   "source": [
    "idade_estudo[:10]"
   ]
  },
  {
   "cell_type": "code",
   "execution_count": 34,
   "metadata": {},
   "outputs": [
    {
     "data": {
      "text/plain": [
       "-0.22316633803425154"
      ]
     },
     "execution_count": 34,
     "metadata": {},
     "output_type": "execute_result"
    }
   ],
   "source": [
    "corr_metodo_raiz(idade_estudo)"
   ]
  },
  {
   "cell_type": "code",
   "execution_count": 35,
   "metadata": {},
   "outputs": [],
   "source": [
    "lista_com_idades = []\n",
    "lista_com_estudo = []\n",
    "\n",
    "for row in idade_estudo:\n",
    "    lista_com_idades.append(row[0])\n",
    "    lista_com_estudo.append(row[1])    "
   ]
  },
  {
   "cell_type": "code",
   "execution_count": 36,
   "metadata": {},
   "outputs": [
    {
     "data": {
      "text/plain": [
       "(66036, 66036)"
      ]
     },
     "execution_count": 36,
     "metadata": {},
     "output_type": "execute_result"
    }
   ],
   "source": [
    "len(lista_com_idades),len(lista_com_estudo)"
   ]
  },
  {
   "cell_type": "code",
   "execution_count": 37,
   "metadata": {},
   "outputs": [
    {
     "data": {
      "text/plain": [
       "<matplotlib.collections.PathCollection at 0x1fe8cd0a2e8>"
      ]
     },
     "execution_count": 37,
     "metadata": {},
     "output_type": "execute_result"
    },
    {
     "data": {
      "image/png": "[encoded data removed]",
      "text/plain": [
       "<Figure size 432x288 with 1 Axes>"
      ]
     },
     "metadata": {
      "needs_background": "light"
     },
     "output_type": "display_data"
    }
   ],
   "source": [
    "plt.scatter(x=lista_com_idades[:1000], y=lista_com_estudo[:1000])"
   ]
  },
  {
   "cell_type": "markdown",
   "metadata": {},
   "source": [
    "### Correlation com Scipy.Stats"
   ]
  },
  {
   "cell_type": "code",
   "execution_count": 38,
   "metadata": {},
   "outputs": [
    {
     "name": "stdout",
     "output_type": "stream",
     "text": [
      "-0.22316633803425198\n"
     ]
    }
   ],
   "source": [
    "metodo_nutella = scipy.stats.pearsonr(lista_com_idades,lista_com_estudo)\n",
    "print(metodo_nutella[0])"
   ]
  },
  {
   "cell_type": "markdown",
   "metadata": {},
   "source": [
    "### Correlation with Numpy"
   ]
  },
  {
   "cell_type": "code",
   "execution_count": 39,
   "metadata": {},
   "outputs": [
    {
     "data": {
      "text/plain": [
       "array([[ 1.        , -0.22316634],\n",
       "       [-0.22316634,  1.        ]])"
      ]
     },
     "execution_count": 39,
     "metadata": {},
     "output_type": "execute_result"
    }
   ],
   "source": [
    "import numpy as np\n",
    "\n",
    "np.corrcoef(lista_com_idades, lista_com_estudo)"
   ]
  },
  {
   "cell_type": "markdown",
   "metadata": {},
   "source": [
    "# Covariância"
   ]
  },
  {
   "cell_type": "code",
   "execution_count": 40,
   "metadata": {},
   "outputs": [
    {
     "data": {
      "text/plain": [
       "array([[129.62205474,  -8.57393891],\n",
       "       [ -8.57393891,  11.38739785]])"
      ]
     },
     "execution_count": 40,
     "metadata": {},
     "output_type": "execute_result"
    }
   ],
   "source": [
    "from numpy import cov\n",
    "\n",
    "cov(lista_com_idades, lista_com_estudo)"
   ]
  },
  {
   "cell_type": "code",
   "execution_count": 41,
   "metadata": {},
   "outputs": [],
   "source": [
    "def cov_func(a, b):\n",
    "\n",
    "    if len(a) != len(b):\n",
    "        return\n",
    "\n",
    "    a_mean = np.mean(a)\n",
    "    b_mean = np.mean(b)\n",
    "\n",
    "    sum = 0\n",
    "\n",
    "    for i in range(0, len(a)):\n",
    "        sum += ((a[i] - a_mean) * (b[i] - b_mean))\n",
    "\n",
    "    return sum/(len(a)-1)"
   ]
  },
  {
   "cell_type": "code",
   "execution_count": 42,
   "metadata": {},
   "outputs": [
    {
     "data": {
      "text/plain": [
       "-8.573938913702294"
      ]
     },
     "execution_count": 42,
     "metadata": {},
     "output_type": "execute_result"
    }
   ],
   "source": [
    "import numpy as np\n",
    "\n",
    "cov_func(lista_com_idades, lista_com_estudo)"
   ]
  },
  {
   "cell_type": "code",
   "execution_count": 43,
   "metadata": {},
   "outputs": [],
   "source": [
    "import statistics\n",
    "std_idades = statistics.stdev(lista_com_idades)\n",
    "std_estudos = statistics.stdev(lista_com_estudo)"
   ]
  },
  {
   "cell_type": "code",
   "execution_count": 44,
   "metadata": {},
   "outputs": [
    {
     "data": {
      "text/plain": [
       "-0.22316633803425104"
      ]
     },
     "execution_count": 44,
     "metadata": {},
     "output_type": "execute_result"
    }
   ],
   "source": [
    "cov_func(lista_com_idades, lista_com_estudo)/(std_idades*std_estudos)"
   ]
  },
  {
   "cell_type": "markdown",
   "metadata": {},
   "source": [
    "# Avançado"
   ]
  },
  {
   "cell_type": "markdown",
   "metadata": {},
   "source": [
    "## Calculando a correlação de Spearman por Scipy.Stats"
   ]
  },
  {
   "cell_type": "code",
   "execution_count": 45,
   "metadata": {},
   "outputs": [
    {
     "data": {
      "text/plain": [
       "-0.2420298536078769"
      ]
     },
     "execution_count": 45,
     "metadata": {},
     "output_type": "execute_result"
    }
   ],
   "source": [
    "from scipy.stats import spearmanr\n",
    "spearman = spearmanr(lista_com_idades, lista_com_estudo)\n",
    "spearman[0]"
   ]
  },
  {
   "cell_type": "markdown",
   "metadata": {},
   "source": [
    "## Calculando a correlação de Kendall por Scipy.Stats"
   ]
  },
  {
   "cell_type": "code",
   "execution_count": 46,
   "metadata": {},
   "outputs": [
    {
     "data": {
      "text/plain": [
       "-0.17900231376164755"
      ]
     },
     "execution_count": 46,
     "metadata": {},
     "output_type": "execute_result"
    }
   ],
   "source": [
    "from scipy.stats import kendalltau\n",
    "tau = kendalltau(lista_com_idades, lista_com_estudo)\n",
    "tau[0]"
   ]
  },
  {
   "cell_type": "code",
   "execution_count": null,
   "metadata": {},
   "outputs": [],
   "source": []
  },
  {
   "cell_type": "code",
   "execution_count": null,
   "metadata": {},
   "outputs": [],
   "source": []
  },
  {
   "cell_type": "code",
   "execution_count": null,
   "metadata": {},
   "outputs": [],
   "source": []
  },
  {
   "cell_type": "code",
   "execution_count": null,
   "metadata": {},
   "outputs": [],
   "source": []
  }
 ],
 "metadata": {
  "hide_input": false,
  "kernelspec": {
   "display_name": "Python 3",
   "language": "python",
   "name": "python3"
  },
  "language_info": {
   "codemirror_mode": {
    "name": "ipython",
    "version": 3
   },
   "file_extension": ".py",
   "mimetype": "text/x-python",
   "name": "python",
   "nbconvert_exporter": "python",
   "pygments_lexer": "ipython3",
   "version": "3.7.4"
  },
  "toc": {
   "base_numbering": 1,
   "nav_menu": {},
   "number_sections": true,
   "sideBar": true,
   "skip_h1_title": true,
   "title_cell": "Estatistica Descritiva para EDA",
   "title_sidebar": "Contents",
   "toc_cell": true,
   "toc_position": {
    "height": "914.933px",
    "left": "41px",
    "top": "110.263px",
    "width": "248.117px"
   },
   "toc_section_display": true,
   "toc_window_display": false
  }
 },
 "nbformat": 4,
 "nbformat_minor": 2
}
